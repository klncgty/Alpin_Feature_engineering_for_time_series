{
 "cells": [
  {
   "cell_type": "code",
   "execution_count": 58,
   "metadata": {},
   "outputs": [],
   "source": [
    "import numpy as np\n",
    "import pandas as pd\n",
    "from sklearn.preprocessing import StandardScaler, MinMaxScaler, LabelEncoder\n",
    "\n",
    "import lightgbm as lgb\n",
    "import gc\n",
    "from scipy.stats import pearsonr as p\n",
    "\n",
    "import matplotlib.pyplot as plt\n",
    "plt.style.use('fivethirtyeight') \n",
    "\n",
    "import warnings\n",
    "warnings.simplefilter(action='ignore', category= FutureWarning)\n",
    "\n",
    "from tqdm import tqdm\n",
    "\n",
    "warnings.filterwarnings('ignore')\n",
    "pd.set_option('display.max_rows', None)\n",
    "pd.set_option('display.max_columns', None)\n"
   ]
  },
  {
   "cell_type": "code",
   "execution_count": 59,
   "metadata": {},
   "outputs": [],
   "source": [
    "df=pd.read_csv(\"/Users/cgtyk/Desktop/ALPIN/Alpin_dataset.csv\")\n",
    "\n",
    "# Hem verinin orjinal halini tutmak, hemde date değişkenini df verisine çekmek için  versiyon sıfır şekilnde dataframe atadım.\n",
    "\n",
    "ver0_df=pd.read_csv(\"/Users/cgtyk/Desktop/ALPIN/Alpin_dataset.csv\")"
   ]
  },
  {
   "cell_type": "code",
   "execution_count": null,
   "metadata": {},
   "outputs": [],
   "source": [
    "# Tip değişimi ve zamana yönelik yeni değişkenler\n",
    "\n",
    "\n",
    "df[\"Date\"] = pd.to_datetime(df[\"Date\"])\n",
    "\n",
    "df[\"YarnCode\"] = df[\"YarnCode\"].astype(\"object\")\n",
    "df[\"Operator\"] = df[\"Operator\"].astype(\"object\")\n",
    "df[\"Shift\"] = df[\"Shift\"].astype(\"object\")\n",
    "df['Yıl'] = df[\"Date\"].dt.year\n",
    "df['Ay'] = df[\"Date\"].dt.month\n",
    "df['Haftanın_Günü'] = df[\"Date\"].dt.weekday\n",
    "haftanin_gunleri = {0: 'Pazartesi', 1: 'Salı', 2: 'Çarşamba', 3: 'Perşembe', 4: 'Cuma', 5: 'Cumartesi', 6: 'Pazar'}\n",
    "df['Haftanın_Günü'] = df[\"Date\"].dt.weekday.map(haftanin_gunleri)\n",
    "df['Vardiya_Saati'] = df['Shift'].map({1: 'Sabah', 2: 'Akşam', 3: 'Gece'})\n",
    "df.drop(\"Shift\",axis=1,inplace=True)\n",
    "\n",
    "df.set_index(\"Date\",inplace=True)"
   ]
  },
  {
   "cell_type": "code",
   "execution_count": 62,
   "metadata": {},
   "outputs": [],
   "source": [
    "# Memory kullanımını azaltma ( kullanmadım)  hafıza sorununu çözen fonksiyonlar\n",
    "\n",
    "\n",
    "def get_memory_usage():\n",
    "    return np.round(psutil.Process(os.getpid()).memory_info()[0]/2.**30, 2) \n",
    "        \n",
    "def sizeof_fmt(num, suffix='B'):\n",
    "    for unit in ['','Ki','Mi','Gi','Ti','Pi','Ei','Zi']:\n",
    "        if abs(num) < 1024.0:\n",
    "            return \"%3.1f%s%s\" % (num, unit, suffix)\n",
    "        num /= 1024.0\n",
    "    return \"%.1f%s%s\" % (num, 'Yi', suffix)\n",
    "\n",
    "\n",
    "def reduce_mem_usage(df, verbose=True):\n",
    "    numerics = ['int16', 'int32', 'int64', 'float16', 'float32', 'float64']\n",
    "    start_mem = df.memory_usage().sum() / 1024**2    \n",
    "    for col in df.columns:\n",
    "        col_type = df[col].dtypes\n",
    "        if col_type in numerics:\n",
    "            c_min = df[col].min()\n",
    "            c_max = df[col].max()\n",
    "            if str(col_type)[:3] == 'int':\n",
    "                if c_min > np.iinfo(np.int8).min and c_max < np.iinfo(np.int8).max:\n",
    "                    df[col] = df[col].astype(np.int8)\n",
    "                elif c_min > np.iinfo(np.int16).min and c_max < np.iinfo(np.int16).max:\n",
    "                       df[col] = df[col].astype(np.int16)\n",
    "                elif c_min > np.iinfo(np.int32).min and c_max < np.iinfo(np.int32).max:\n",
    "                    df[col] = df[col].astype(np.int32)\n",
    "                elif c_min > np.iinfo(np.int64).min and c_max < np.iinfo(np.int64).max:\n",
    "                    df[col] = df[col].astype(np.int64)  \n",
    "            else:\n",
    "                if c_min > np.finfo(np.float16).min and c_max < np.finfo(np.float16).max:\n",
    "                    df[col] = df[col].astype(np.float16)\n",
    "                elif c_min > np.finfo(np.float32).min and c_max < np.finfo(np.float32).max:\n",
    "                    df[col] = df[col].astype(np.float32)\n",
    "                else:\n",
    "                    df[col] = df[col].astype(np.float64)    \n",
    "    end_mem = df.memory_usage().sum() / 1024**2\n",
    "    if verbose: print('Mem. usage decreased to {:5.2f} Mb ({:.1f}% reduction)'.format(end_mem, 100 * (start_mem - end_mem) / start_mem))\n",
    "    return df"
   ]
  },
  {
   "cell_type": "code",
   "execution_count": null,
   "metadata": {},
   "outputs": [],
   "source": [
    "cat_cols=[\"Vardiya_Saati\",\"Haftanın_Günü\",\"Yıl\",\"Platin\",\"Ability\"]\n",
    "for col in df.columns:\n",
    "    print(col, df[col].nunique())"
   ]
  },
  {
   "cell_type": "code",
   "execution_count": 65,
   "metadata": {},
   "outputs": [],
   "source": [
    "# Verideki efficiencyden başka tek sayısal değişken olan \n",
    "#   cycletime değişkeninin üzerinden değişken üretme\n",
    "\n",
    "\n",
    "df['CycleTime_max'] = df.groupby(['MachCode','ProductCode'])['CycleTime'].transform('max')\n",
    "df['CycleTime_min'] = df.groupby(['MachCode','ProductCode'])['CycleTime'].transform('min')\n",
    "df['CycleTime_std'] = df.groupby(['MachCode','ProductCode'])['CycleTime'].transform('std')\n",
    "df['CycleTime_mean'] = df.groupby(['MachCode','ProductCode'])['CycleTime'].transform('mean')\n",
    "\n",
    "\n",
    "#Cycletime normalizasyonu bir nevi ölçeklendirme\n",
    "\n",
    "df['CycleTime_max_norm'] = df['CycleTime']/df['CycleTime_max']\n",
    "\n",
    "\n",
    "#momentum ekleme finansal verilerdeki  geçmiş değerleri  kullanma gibi \n",
    "\n",
    "df['CycleTime_momentum'] = df['CycleTime']/df.groupby(['MachCode','ProductCode'])['CycleTime'].transform(lambda x: x.shift(1))\n",
    "df['CycleTime_momentum_ay'] = df['CycleTime']/df.groupby(['MachCode','ProductCode','Ay'])['CycleTime'].transform('mean')\n",
    "df['CycleTime_momentum_yıl'] = df['CycleTime']/df.groupby(['MachCode','ProductCode','Yıl'])['CycleTime'].transform('mean')\n",
    "\n",
    "del df['Ay'], df['Yıl']"
   ]
  },
  {
   "cell_type": "code",
   "execution_count": null,
   "metadata": {},
   "outputs": [],
   "source": [
    "## Rolling değişkenleri\n",
    "\n",
    "for i in [7,14,30,60,180]:\n",
    "    print('Rolling period:', i)\n",
    "    df['rolling_mean_'+str(i)] = df.groupby(['MachCode'])[\"Efficiency\"].transform(lambda x: x.shift(30).rolling(i).mean()).astype(np.float16)\n",
    "    df['rolling_std_'+str(i)]  = df.groupby(['MachCode'])[\"Efficiency\"].transform(lambda x: x.shift(30).rolling(i).std()).astype(np.float16)\n",
    "    \n",
    "    \n",
    "for d_shift in [1,7,14]: \n",
    "    print('Shifting period:', d_shift)\n",
    "    for d_window in [7,14,30,60]:\n",
    "        col_name = 'rolling_mean_tmp_'+str(d_shift)+'_'+str(d_window)\n",
    "        df[col_name] = df.groupby(['MachCode'])[\"Efficiency\"].transform(lambda x: x.shift(d_shift).rolling(d_window).mean()).astype(np.float16)"
   ]
  },
  {
   "cell_type": "code",
   "execution_count": null,
   "metadata": {},
   "outputs": [],
   "source": [
    "# Veri setindeki belirli gruplandırmalara göre Efficiencyy sütununun ortalaması ve standart sapmasını yeni sütunlar olarak ekledim\n",
    "\n",
    "icols =  [\n",
    "            ['MachCode'],\n",
    "            ['ProductCode'],\n",
    "            ['Ability'],\n",
    "            ['Platin'],\n",
    "            ['MachCode', 'ProductCode'],\n",
    "            ['MachCode', 'Ability'],\n",
    "            ['ProductCode', 'Platin'],\n",
    "            ['ProductCode', 'Ability'],\n",
    "            ['Platin', 'ProductCode'],\n",
    "            ['Platin', 'ProductCode']\n",
    "            ]\n",
    "\n",
    "for col in icols:\n",
    "    print('Encoding', col)\n",
    "    col_name = '_'+'_'.join(col)+'_'\n",
    "    df['enc'+col_name+'mean'] = df.groupby(col)['Efficiency'].transform('mean').astype(np.float16)\n",
    "    df['enc'+col_name+'std'] = df.groupby(col)['Efficiency'].transform('std').astype(np.float16)"
   ]
  },
  {
   "cell_type": "code",
   "execution_count": 68,
   "metadata": {},
   "outputs": [],
   "source": [
    "# Bizim için verideki, \n",
    "#  makine verimliliğine etki eden \n",
    "#  en önemli iki kategorik değişkeni one hot encoder'a soktum.\n",
    "\n",
    "one_hot_encoded = pd.get_dummies(df[\"Ability\"], prefix=col)\n",
    "df = pd.concat([df, one_hot_encoded], axis=1)\n",
    "df = df.drop(\"Ability\", axis=1) \n",
    "\n",
    "one_hot_encoded = pd.get_dummies(df[\"Platin\"], prefix=col)\n",
    "df = pd.concat([df, one_hot_encoded], axis=1)\n",
    "df = df.drop(\"Platin\", axis=1) "
   ]
  },
  {
   "cell_type": "code",
   "execution_count": 70,
   "metadata": {},
   "outputs": [],
   "source": [
    "df.drop([\"GroupCode\",\"Operator\",\"ProductCode\",\"YarnCode\",\"Item\",\"adet\",\"NumuneKod\"],axis=1,inplace=True)\n"
   ]
  },
  {
   "cell_type": "code",
   "execution_count": null,
   "metadata": {},
   "outputs": [],
   "source": [
    "# Veride çok fazla satır olduğundan memory hatası aldım. \n",
    "#Ben de 1000 satır 1000 satır şeklinde, \n",
    "# True ve False değerlerini 1 ve  0'a dönüştürdüm\n",
    "\n",
    "chunk_size = 1000\n",
    "\n",
    "# Sadece bool türündeki sütunları seç\n",
    "bool_columns = df.select_dtypes(include=bool).columns\n",
    "\n",
    "for col in bool_columns:\n",
    "    for start in range(0, len(df), chunk_size):\n",
    "        end = start + chunk_size\n",
    "        df.loc[start:end, col] = df.loc[start:end, col].astype(int)"
   ]
  },
  {
   "cell_type": "code",
   "execution_count": null,
   "metadata": {},
   "outputs": [],
   "source": [
    "# Yine aynı şekilde \n",
    "#   verideki date değişkeninden elde ettiğim \n",
    "#   2 temel kategorik zaman değişkenini  one hot encoder'a soktum\n",
    "\n",
    "one_hot_encoded = pd.get_dummies(df[\"Haftanın_Günü\"], prefix=col)\n",
    "df = pd.concat([df, one_hot_encoded], axis=1)\n",
    "df = df.drop(\"Haftanın_Günü\", axis=1)\n",
    "\n",
    "one_hot_encoded = pd.get_dummies(df[\"Vardiya_Saati\"], prefix=col)\n",
    "df = pd.concat([df, one_hot_encoded], axis=1)\n",
    "df = df.drop(\"Vardiya_Saati\", axis=1)"
   ]
  },
  {
   "cell_type": "code",
   "execution_count": null,
   "metadata": {},
   "outputs": [],
   "source": [
    "# Herbir MachCode için ayrı bir data frame oluşturup, \n",
    "#   bu veilere göre her bir machcode için ayrı model kurmak içi aşağıdaki döngüyü yazdım.\n",
    "# Aslında GroupKfold ile de bu işlemi yapabilirdim. \n",
    "# Groupkfold daha prati olduğu için ona geçebilirim.\n",
    "\n",
    "machcodes_dataframes = []\n",
    "machcodes_names = []\n",
    "unique_machcodes = df['MachCode'].unique()\n",
    "\n",
    "for i, machcode in enumerate(unique_machcodes, start=1):\n",
    "    machcode_df = df[df['MachCode'] == machcode].copy()\n",
    "    machcode_name = f'mach_{i}'\n",
    "    machcodes_dataframes.append(machcode_df)\n",
    "    machcodes_names.append(machcode_name)"
   ]
  },
  {
   "cell_type": "code",
   "execution_count": null,
   "metadata": {},
   "outputs": [],
   "source": [
    "machcodes_names"
   ]
  }
 ],
 "metadata": {
  "kernelspec": {
   "display_name": "Python 3",
   "language": "python",
   "name": "python3"
  },
  "language_info": {
   "codemirror_mode": {
    "name": "ipython",
    "version": 3
   },
   "file_extension": ".py",
   "mimetype": "text/x-python",
   "name": "python",
   "nbconvert_exporter": "python",
   "pygments_lexer": "ipython3",
   "version": "3.11.6"
  }
 },
 "nbformat": 4,
 "nbformat_minor": 2
}
